{
  "nbformat": 4,
  "nbformat_minor": 0,
  "metadata": {
    "colab": {
      "provenance": [],
      "authorship_tag": "ABX9TyONi6oLcSVEqkxcvapsPrNy",
      "include_colab_link": true
    },
    "kernelspec": {
      "name": "python3",
      "display_name": "Python 3"
    },
    "language_info": {
      "name": "python"
    }
  },
  "cells": [
    {
      "cell_type": "markdown",
      "metadata": {
        "id": "view-in-github",
        "colab_type": "text"
      },
      "source": [
        "<a href=\"https://colab.research.google.com/github/HarshBarnwal2004/simple-content-classifier/blob/main/simple_content_classifier.ipynb\" target=\"_parent\"><img src=\"https://colab.research.google.com/assets/colab-badge.svg\" alt=\"Open In Colab\"/></a>"
      ]
    },
    {
      "cell_type": "code",
      "execution_count": 23,
      "metadata": {
        "id": "jjNPbrkwrXSZ"
      },
      "outputs": [],
      "source": [
        "# Import necessary libraries\n",
        "import pandas as pd\n",
        "from sklearn.feature_extraction.text import TfidfVectorizer\n",
        "from sklearn.model_selection import train_test_split\n",
        "from sklearn.tree import DecisionTreeClassifier\n",
        "from sklearn.linear_model import LogisticRegression\n",
        "from sklearn.metrics import classification_report, accuracy_score"
      ]
    },
    {
      "cell_type": "code",
      "source": [
        "# sample dataset\n",
        "data = {\n",
        "    'description': [\n",
        "        'A high school girl gets caught in a love triangle between her childhood friend and a handsome new student.',\n",
        "        'A group of super-powered individuals fight to protect their city from an alien invasion.',\n",
        "        'A young prince must navigate a dangerous fantasy world filled with dragons and magic.',\n",
        "        'Two rivals in the fashion industry find themselves falling for each other despite their differences.',\n",
        "        'A team of heroes is tasked with saving the universe from a powerful evil sorcerer.',\n",
        "        'A shy girl discovers her ability to control time and must stop a disaster from happening.',\n",
        "        'A young man seeks revenge after his family is betrayed by a trusted friend in a kingdom of war.',\n",
        "        'A love story between a vampire and a human girl, filled with supernatural events and suspense.',\n",
        "        'A girl discovers she is the last of an ancient warrior clan and must fight to save her people.',\n",
        "        'Two best friends navigate the ups and downs of high school while hiding their magical abilities.',\n",
        "        'A detective with extraordinary abilities solves mysterious crimes in a futuristic city.',\n",
        "        'An ordinary college student gets pulled into an online gaming world where he must fight to survive.',\n",
        "        'A romance between a prince and a commoner as they face opposition from the royal family.',\n",
        "        'A legendary martial artist returns from exile to reclaim his rightful place in the world of warriors.',\n",
        "        'A drama-filled love triangle between a pop star, a fan, and her best friend in the music industry.'\n",
        "    ],\n",
        "    'category': [\n",
        "        'romance',\n",
        "        'action',\n",
        "        'fantasy',\n",
        "        'romance',\n",
        "        'action',\n",
        "        'fantasy',\n",
        "        'action',\n",
        "        'romance',\n",
        "        'fantasy',\n",
        "        'fantasy',\n",
        "        'action',\n",
        "        'fantasy',\n",
        "        'romance',\n",
        "        'action',\n",
        "        'romance'\n",
        "    ]\n",
        "}"
      ],
      "metadata": {
        "id": "bxWti6LQrmJk"
      },
      "execution_count": 24,
      "outputs": []
    },
    {
      "cell_type": "code",
      "source": [
        "# Creating a DataFrame\n",
        "df = pd.DataFrame(data)"
      ],
      "metadata": {
        "id": "HKHIMkXCrsiP"
      },
      "execution_count": 25,
      "outputs": []
    },
    {
      "cell_type": "code",
      "source": [
        "# Text Preprocessing\n",
        "vectorizer = TfidfVectorizer(stop_words='english')\n",
        "X = vectorizer.fit_transform(df['description'])  # Convert text to numeric features\n",
        "y = df['category']  # Label"
      ],
      "metadata": {
        "id": "1y7w1irPrw5S"
      },
      "execution_count": 26,
      "outputs": []
    },
    {
      "cell_type": "code",
      "source": [
        "print(df['category'].value_counts())"
      ],
      "metadata": {
        "colab": {
          "base_uri": "https://localhost:8080/"
        },
        "id": "2IhYdd28r1Up",
        "outputId": "36f1333f-389f-4b3a-ad90-176bb082f67b"
      },
      "execution_count": 27,
      "outputs": [
        {
          "output_type": "stream",
          "name": "stdout",
          "text": [
            "category\n",
            "romance    5\n",
            "action     5\n",
            "fantasy    5\n",
            "Name: count, dtype: int64\n"
          ]
        }
      ]
    },
    {
      "cell_type": "code",
      "source": [
        "# Split the dataset into training and test sets\n",
        "X_train, X_test, y_train, y_test = train_test_split(X, y, test_size=0.3, random_state=42)"
      ],
      "metadata": {
        "id": "vOgDz28ur7uu"
      },
      "execution_count": 28,
      "outputs": []
    },
    {
      "cell_type": "code",
      "source": [
        "# Step 5: Model Selection - Let's use both Decision Tree and Logistic Regression\n",
        "\n",
        "# Decision Tree Classifier\n",
        "dt_classifier = DecisionTreeClassifier(random_state=42)\n",
        "dt_classifier.fit(X_train, y_train)\n",
        "y_pred_dt = dt_classifier.predict(X_test)\n",
        "\n",
        "# Logistic Regression Classifier\n",
        "lr_classifier = LogisticRegression(max_iter=1000, random_state=42, class_weight='balanced')\n",
        "lr_classifier.fit(X_train, y_train)\n",
        "y_pred_lr = lr_classifier.predict(X_test)"
      ],
      "metadata": {
        "id": "YWMvwgdGr-sf"
      },
      "execution_count": 29,
      "outputs": []
    },
    {
      "cell_type": "code",
      "source": [
        "# Step 6: Evaluate the models\n",
        "print(\"Decision Tree Classifier Performance:\")\n",
        "print(classification_report(y_test, y_pred_dt, zero_division=1))\n",
        "print(\"Accuracy:\", accuracy_score(y_test, y_pred_dt))\n",
        "\n",
        "print(\"\\nLogistic Regression Classifier Performance:\")\n",
        "print(classification_report(y_test, y_pred_lr, zero_division=1))\n",
        "print(\"Accuracy:\", accuracy_score(y_test, y_pred_lr))"
      ],
      "metadata": {
        "colab": {
          "base_uri": "https://localhost:8080/"
        },
        "id": "3eTu2dBBsCtA",
        "outputId": "0e97b1d8-8c2e-4fa5-d361-7f95e39a8c84"
      },
      "execution_count": 30,
      "outputs": [
        {
          "output_type": "stream",
          "name": "stdout",
          "text": [
            "Decision Tree Classifier Performance:\n",
            "              precision    recall  f1-score   support\n",
            "\n",
            "      action       0.50      1.00      0.67         1\n",
            "     fantasy       0.67      0.67      0.67         3\n",
            "     romance       1.00      0.00      0.00         1\n",
            "\n",
            "    accuracy                           0.60         5\n",
            "   macro avg       0.72      0.56      0.44         5\n",
            "weighted avg       0.70      0.60      0.53         5\n",
            "\n",
            "Accuracy: 0.6\n",
            "\n",
            "Logistic Regression Classifier Performance:\n",
            "              precision    recall  f1-score   support\n",
            "\n",
            "      action       0.33      1.00      0.50         1\n",
            "     fantasy       1.00      0.00      0.00         3\n",
            "     romance       0.50      1.00      0.67         1\n",
            "\n",
            "    accuracy                           0.40         5\n",
            "   macro avg       0.61      0.67      0.39         5\n",
            "weighted avg       0.77      0.40      0.23         5\n",
            "\n",
            "Accuracy: 0.4\n"
          ]
        }
      ]
    },
    {
      "cell_type": "code",
      "source": [
        "new_descriptions = [\n",
        "    'A group of friends must fight against evil forces trying to take over their town.',  # action\n",
        "    'A young girl must choose between two boys who have both fallen in love with her.', # romance\n",
        "    'A young warrior embarks on a perilous journey to retrieve a lost artifact that holds the power to reshape the world.' #fantasy\n",
        "]\n",
        "\n",
        "# Transform the new data using the same vectorizer\n",
        "X_new = vectorizer.transform(new_descriptions)\n",
        "\n",
        "# Predict the categories for the new descriptions\n",
        "new_predictions = lr_classifier.predict(X_new)\n",
        "\n",
        "# Show the predictions\n",
        "for desc, category in zip(new_descriptions, new_predictions):\n",
        "    print(f\"Description: '{desc}' => Predicted Category: {category}\")"
      ],
      "metadata": {
        "colab": {
          "base_uri": "https://localhost:8080/"
        },
        "id": "_B6rK0NysHCp",
        "outputId": "c33e2e5e-d003-45fd-bae0-506fb00591a9"
      },
      "execution_count": 32,
      "outputs": [
        {
          "output_type": "stream",
          "name": "stdout",
          "text": [
            "Description: 'A group of friends must fight against evil forces trying to take over their town.' => Predicted Category: action\n",
            "Description: 'A young girl must choose between two boys who have both fallen in love with her.' => Predicted Category: romance\n",
            "Description: 'A young warrior embarks on a perilous journey to retrieve a lost artifact that holds the power to reshape the world.' => Predicted Category: fantasy\n"
          ]
        }
      ]
    },
    {
      "cell_type": "code",
      "source": [],
      "metadata": {
        "id": "UAbGMWmSsPoS"
      },
      "execution_count": null,
      "outputs": []
    }
  ]
}